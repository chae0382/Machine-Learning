{
 "cells": [
  {
   "cell_type": "code",
   "execution_count": 1,
   "id": "007bc63c",
   "metadata": {},
   "outputs": [],
   "source": [
    "import numpy as np\n",
    "import matplotlib.pyplot as plt\n",
    "from sklearn.datasets import fetch_openml"
   ]
  },
  {
   "cell_type": "code",
   "execution_count": 2,
   "id": "59b8371b",
   "metadata": {},
   "outputs": [],
   "source": [
    "class MultiClassLogisticRegression:\n",
    "    \n",
    "    def __init__(self, learning_rate = 0.01, epoch = 2000):\n",
    "        self.learning_rate = learning_rate\n",
    "        self.epoch = epoch\n",
    "        self.w = []\n",
    "        self.b = []\n",
    "        \n",
    "    def initialize_weight(self,dim):\n",
    "        w = np.random.normal(0,1,(dim,10))\n",
    "        b = np.random.rand(10)\n",
    "        return w,b\n",
    "    \n",
    "    def sigmoid(self, x):\n",
    "        s = 1/(1 + np.exp(-x))\n",
    "        return s\n",
    "    \n",
    "    def hypothesis(self, w, X, b):\n",
    "        # 60000 * 784 * 784 * 10\n",
    "        y_hat = self.sigmoid(np.matmul(X,w)+b)\n",
    "        y_hat = np.squeeze(y_hat)\n",
    "        return y_hat\n",
    "    \n",
    "    def cost(self, y_hat, y, N):\n",
    "        cost = -(1/N)*np.sum(y*np.log(y_hat)+(1-y)*np.log(1-y_hat), axis = 0)\n",
    "        cost = np.squeeze(cost)\n",
    "        return cost\n",
    "    \n",
    "    def cal_gradient(self, w, y_hat, X, y):\n",
    "        N = X.shape[0] # 60000\n",
    "        # 784 * 60000 * 60000 * 10 = 784 * 10\n",
    "        delta_w = (1/N)*np.matmul(X.T, (y_hat-y))\n",
    "        \n",
    "        # 1 * 10\n",
    "        delta_b = (1/N)*np.sum(y_hat-y, axis = 0)\n",
    "        grads = {\"delta_w\": delta_w,\n",
    "                \"delta_b\": delta_b}\n",
    "        return grads\n",
    "    \n",
    "    def gradient_position(self, w, b, X, y):\n",
    "        N = X.shape[0]\n",
    "        y_hat = self.hypothesis(w, X, b)\n",
    "        cost = self.cost(y_hat, y, N)\n",
    "        grads = self.cal_gradient(w, y_hat, X, y)\n",
    "        return grads, cost\n",
    "    \n",
    "    def gradient_descent(self, w, b, X, y, print_cost = False):\n",
    "        \n",
    "        costs = []\n",
    "        \n",
    "        for i in range(self.epoch):\n",
    "            grads, cost = self.gradient_position(w, b, X, y)\n",
    "            \n",
    "            delta_w = grads[\"delta_w\"]\n",
    "            delta_b = grads[\"delta_b\"]\n",
    "            \n",
    "            delta_w = delta_w.reshape(784, 10)\n",
    "            delta_b = delta_b.reshape(1, 10)\n",
    "            \n",
    "            w = w -(self.learning_rate * delta_w)\n",
    "            b = b -(self.learning_rate * delta_b)\n",
    "            if i % 100 == 0:\n",
    "                costs.append(cost)\n",
    "            \n",
    "            if print_cost and i % 100 == 0:\n",
    "                print(\"Cost after iteration %i: %f\" %(i, cost))\n",
    "                \n",
    "            params = {\"w\" : w,\n",
    "                     \"b\" : b}\n",
    "            \n",
    "            grads = {\"delta_w\": delta_w,\n",
    "                    \"delta_b\": delta_b}\n",
    "            \n",
    "        return params, costs\n",
    "    \n",
    "    def train_model(self, X_train, Y_train, X_test, Y_test, print_cost = False):\n",
    "        dim = np.shape(X_train)[1]\n",
    "        w, b = self.initialize_weight(dim)\n",
    "        parameters, costs = self.gradient_descent(w, b, X_train, Y_train, print_cost = False)\n",
    "        \n",
    "        self.w = parameters[\"w\"]\n",
    "        self.b = parameters[\"b\"]\n",
    "        \n",
    "        Y_prediction_test = self.predict(X_test)\n",
    "        Y_prediction_train = self.predict(X_train)\n",
    "        \n",
    "        train_score = 100-np.mean((np.sum(np.abs(Y_prediction_train - Y_train), axis = 1))/2) * 100\n",
    "        test_score = 100-np.mean((np.sum(np.abs(Y_prediction_test - Y_test), axis = 1))/2) * 100\n",
    "        \n",
    "        print(\"test accuracy: {} %\".format(100-np.mean((np.sum(np.abs(Y_prediction_test - Y_test), axis = 1))/2) * 100))\n",
    "        result_dict = {\"costs\": costs,\n",
    "                      \"Y_prediction_test\": Y_prediction_test,\n",
    "                      \"Y_prediction_train\": Y_prediction_train,\n",
    "                      \"w\": self.w,\n",
    "                      \"b\": self.b,\n",
    "                      \"learning_rate\": self.learning_rate,\n",
    "                      \"num_iterations\": self.epoch,\n",
    "                      \"train accuracy\": train_score,\n",
    "                      \"test accuracy\": test_score}\n",
    "        return result_dict\n",
    "    \n",
    "    def predict(self,X):\n",
    "        X = np.array(X)\n",
    "        N = X.shape[0]\n",
    "        \n",
    "        Y_prediction = np.zeros(N)\n",
    "        \n",
    "        w = self.w.reshape(784, 10)\n",
    "        b = self.b.reshape(1, 10)\n",
    "        \n",
    "        # 60000 * 10\n",
    "        y_hat = self.hypothesis(w, X, b)\n",
    "        \n",
    "        for i in range(len(y_hat)):\n",
    "            idx = np.argmax(y_hat[i])\n",
    "            Y_prediction[i] = idx\n",
    "            \n",
    "        Y_prediction = Y_prediction.astype(np.int)\n",
    "        n_values = np.max(Y_prediction) + 1\n",
    "        Y_prediction = np.eye(n_values)[Y_prediction]\n",
    "        \n",
    "        return Y_prediction"
   ]
  },
  {
   "cell_type": "code",
   "execution_count": 3,
   "id": "0fdbabb0",
   "metadata": {},
   "outputs": [
    {
     "name": "stderr",
     "output_type": "stream",
     "text": [
      "/var/folders/9q/sg0csh752098vchj19dv46mw0000gn/T/ipykernel_19197/1019761048.py:7: DeprecationWarning: `np.int` is a deprecated alias for the builtin `int`. To silence this warning, use `int` by itself. Doing this will not modify any behavior and is safe. When replacing `np.int`, you may wish to use e.g. `np.int64` or `np.int32` to specify the precision. If you wish to review your current use, check the release note link for additional information.\n",
      "Deprecated in NumPy 1.20; for more details and guidance: https://numpy.org/devdocs/release/1.20.0-notes.html#deprecations\n",
      "  train_y = y[:-10000].astype(np.int)\n",
      "/var/folders/9q/sg0csh752098vchj19dv46mw0000gn/T/ipykernel_19197/1019761048.py:8: DeprecationWarning: `np.int` is a deprecated alias for the builtin `int`. To silence this warning, use `int` by itself. Doing this will not modify any behavior and is safe. When replacing `np.int`, you may wish to use e.g. `np.int64` or `np.int32` to specify the precision. If you wish to review your current use, check the release note link for additional information.\n",
      "Deprecated in NumPy 1.20; for more details and guidance: https://numpy.org/devdocs/release/1.20.0-notes.html#deprecations\n",
      "  test_y = y[-10000:].astype(np.int)\n"
     ]
    }
   ],
   "source": [
    "X, y = fetch_openml(\"mnist_784\", version=1, return_X_y=True, as_frame=False)\n",
    "\n",
    "train_X = np.array(X[:-10000])\n",
    "test_X = np.array(X[-10000:])\n",
    "\n",
    "## one hot encoding\n",
    "train_y = y[:-10000].astype(np.int)\n",
    "test_y = y[-10000:].astype(np.int)\n",
    "\n",
    "n_values = np.max(train_y) + 1\n",
    "train_y = np.eye(n_values)[train_y]\n",
    "test_y = np.eye(n_values)[test_y]"
   ]
  },
  {
   "cell_type": "code",
   "execution_count": 4,
   "id": "c9d56de1",
   "metadata": {},
   "outputs": [
    {
     "name": "stderr",
     "output_type": "stream",
     "text": [
      "/var/folders/9q/sg0csh752098vchj19dv46mw0000gn/T/ipykernel_19197/2734277639.py:1: RuntimeWarning: invalid value encountered in true_divide\n",
      "  train_normalized_X = (train_X - np.mean(train_X, axis = 0)) / np.std(train_X, axis = 0)\n",
      "/var/folders/9q/sg0csh752098vchj19dv46mw0000gn/T/ipykernel_19197/2734277639.py:3: RuntimeWarning: invalid value encountered in true_divide\n",
      "  test_normalized_X = (test_X - np.mean(test_X, axis = 0)) / np.std(test_X, axis = 0)\n"
     ]
    }
   ],
   "source": [
    "train_normalized_X = (train_X - np.mean(train_X, axis = 0)) / np.std(train_X, axis = 0)\n",
    "train_normalized_X[np.isnan(train_normalized_X)] = train_X[np.isnan(train_normalized_X)]\n",
    "test_normalized_X = (test_X - np.mean(test_X, axis = 0)) / np.std(test_X, axis = 0)\n",
    "test_normalized_X[np.isnan(test_normalized_X)] = test_X[np.isnan(test_normalized_X)]"
   ]
  },
  {
   "cell_type": "code",
   "execution_count": 5,
   "id": "dca4e59a",
   "metadata": {},
   "outputs": [
    {
     "name": "stderr",
     "output_type": "stream",
     "text": [
      "/var/folders/9q/sg0csh752098vchj19dv46mw0000gn/T/ipykernel_19197/3494332922.py:15: RuntimeWarning: overflow encountered in exp\n",
      "  s = 1/(1 + np.exp(-x))\n",
      "/var/folders/9q/sg0csh752098vchj19dv46mw0000gn/T/ipykernel_19197/3494332922.py:25: RuntimeWarning: divide by zero encountered in log\n",
      "  cost = -(1/N)*np.sum(y*np.log(y_hat)+(1-y)*np.log(1-y_hat), axis = 0)\n",
      "/var/folders/9q/sg0csh752098vchj19dv46mw0000gn/T/ipykernel_19197/3494332922.py:25: RuntimeWarning: invalid value encountered in multiply\n",
      "  cost = -(1/N)*np.sum(y*np.log(y_hat)+(1-y)*np.log(1-y_hat), axis = 0)\n"
     ]
    },
    {
     "name": "stdout",
     "output_type": "stream",
     "text": [
      "test accuracy: 84.3 %\n"
     ]
    },
    {
     "name": "stderr",
     "output_type": "stream",
     "text": [
      "/var/folders/9q/sg0csh752098vchj19dv46mw0000gn/T/ipykernel_19197/3494332922.py:118: DeprecationWarning: `np.int` is a deprecated alias for the builtin `int`. To silence this warning, use `int` by itself. Doing this will not modify any behavior and is safe. When replacing `np.int`, you may wish to use e.g. `np.int64` or `np.int32` to specify the precision. If you wish to review your current use, check the release note link for additional information.\n",
      "Deprecated in NumPy 1.20; for more details and guidance: https://numpy.org/devdocs/release/1.20.0-notes.html#deprecations\n",
      "  Y_prediction = Y_prediction.astype(np.int)\n"
     ]
    }
   ],
   "source": [
    "##Train\n",
    "\n",
    "MCLR_cls = MultiClassLogisticRegression(epoch=20000)\n",
    "result_dict = MCLR_cls.train_model(train_normalized_X, train_y, test_normalized_X, test_y)"
   ]
  },
  {
   "cell_type": "code",
   "execution_count": 6,
   "id": "7e6a1809",
   "metadata": {},
   "outputs": [
    {
     "name": "stdout",
     "output_type": "stream",
     "text": [
      "Label:  0\n",
      "Prediction:  0\n"
     ]
    },
    {
     "data": {
      "image/png": "[encoded data removed]",
      "text/plain": [
       "<Figure size 432x288 with 1 Axes>"
      ]
     },
     "metadata": {
      "needs_background": "light"
     },
     "output_type": "display_data"
    }
   ],
   "source": [
    "plt.imshow(test_X[407].reshape(28,28))\n",
    "label = np.argmax(test_y[407])\n",
    "prediction = np.argmax(result_dict['Y_prediction_test'][407])\n",
    "print(\"Label: \",label)\n",
    "print(\"Prediction: \",prediction)"
   ]
  },
  {
   "cell_type": "code",
   "execution_count": 7,
   "id": "825fe9b9",
   "metadata": {},
   "outputs": [
    {
     "name": "stdout",
     "output_type": "stream",
     "text": [
      "Label:  2\n",
      "Prediction:  2\n"
     ]
    },
    {
     "data": {
      "image/png": "[encoded data removed]",
      "text/plain": [
       "<Figure size 432x288 with 1 Axes>"
      ]
     },
     "metadata": {
      "needs_background": "light"
     },
     "output_type": "display_data"
    }
   ],
   "source": [
    "plt.imshow(test_X[1407].reshape(28,28))\n",
    "label = np.argmax(test_y[1407])\n",
    "prediction = np.argmax(result_dict['Y_prediction_test'][1407])\n",
    "print(\"Label: \",label)\n",
    "print(\"Prediction: \",prediction)"
   ]
  },
  {
   "cell_type": "code",
   "execution_count": 8,
   "id": "fd7b62ce",
   "metadata": {},
   "outputs": [
    {
     "name": "stdout",
     "output_type": "stream",
     "text": [
      "Label:  7\n",
      "Prediction:  7\n"
     ]
    },
    {
     "data": {
      "image/png": "[encoded data removed]",
      "text/plain": [
       "<Figure size 432x288 with 1 Axes>"
      ]
     },
     "metadata": {
      "needs_background": "light"
     },
     "output_type": "display_data"
    }
   ],
   "source": [
    "plt.imshow(test_X[2407].reshape(28,28))\n",
    "label = np.argmax(test_y[2407])\n",
    "prediction = np.argmax(result_dict['Y_prediction_test'][2407])\n",
    "print(\"Label: \",label)\n",
    "print(\"Prediction: \",prediction)"
   ]
  },
  {
   "cell_type": "code",
   "execution_count": 9,
   "id": "e732c332",
   "metadata": {},
   "outputs": [
    {
     "name": "stdout",
     "output_type": "stream",
     "text": [
      "Label:  3\n",
      "Prediction:  3\n"
     ]
    },
    {
     "data": {
      "image/png": "[encoded data removed]",
      "text/plain": [
       "<Figure size 432x288 with 1 Axes>"
      ]
     },
     "metadata": {
      "needs_background": "light"
     },
     "output_type": "display_data"
    }
   ],
   "source": [
    "plt.imshow(test_X[3407].reshape(28,28))\n",
    "label = np.argmax(test_y[3407])\n",
    "prediction = np.argmax(result_dict['Y_prediction_test'][3407])\n",
    "print(\"Label: \",label)\n",
    "print(\"Prediction: \",prediction)"
   ]
  },
  {
   "cell_type": "code",
   "execution_count": 10,
   "id": "803a32b2",
   "metadata": {},
   "outputs": [
    {
     "name": "stdout",
     "output_type": "stream",
     "text": [
      "Label:  9\n",
      "Prediction:  9\n"
     ]
    },
    {
     "data": {
      "image/png": "[encoded data removed]",
      "text/plain": [
       "<Figure size 432x288 with 1 Axes>"
      ]
     },
     "metadata": {
      "needs_background": "light"
     },
     "output_type": "display_data"
    }
   ],
   "source": [
    "plt.imshow(test_X[4407].reshape(28,28))\n",
    "label = np.argmax(test_y[4407])\n",
    "prediction = np.argmax(result_dict['Y_prediction_test'][4407])\n",
    "print(\"Label: \",label)\n",
    "print(\"Prediction: \",prediction)"
   ]
  },
  {
   "cell_type": "code",
   "execution_count": 11,
   "id": "6aeb964d",
   "metadata": {},
   "outputs": [
    {
     "name": "stdout",
     "output_type": "stream",
     "text": [
      "Label:  2\n",
      "Prediction:  2\n"
     ]
    },
    {
     "data": {
      "image/png": "[encoded data removed]",
      "text/plain": [
       "<Figure size 432x288 with 1 Axes>"
      ]
     },
     "metadata": {
      "needs_background": "light"
     },
     "output_type": "display_data"
    }
   ],
   "source": [
    "plt.imshow(test_X[5407].reshape(28,28))\n",
    "label = np.argmax(test_y[5407])\n",
    "prediction = np.argmax(result_dict['Y_prediction_test'][5407])\n",
    "print(\"Label: \",label)\n",
    "print(\"Prediction: \",prediction)"
   ]
  },
  {
   "cell_type": "code",
   "execution_count": 12,
   "id": "c150329c",
   "metadata": {},
   "outputs": [
    {
     "name": "stdout",
     "output_type": "stream",
     "text": [
      "Label:  1\n",
      "Prediction:  1\n"
     ]
    },
    {
     "data": {
      "image/png": "[encoded data removed]",
      "text/plain": [
       "<Figure size 432x288 with 1 Axes>"
      ]
     },
     "metadata": {
      "needs_background": "light"
     },
     "output_type": "display_data"
    }
   ],
   "source": [
    "plt.imshow(test_X[6407].reshape(28,28))\n",
    "label = np.argmax(test_y[6407])\n",
    "prediction = np.argmax(result_dict['Y_prediction_test'][6407])\n",
    "print(\"Label: \",label)\n",
    "print(\"Prediction: \",prediction)"
   ]
  },
  {
   "cell_type": "code",
   "execution_count": 13,
   "id": "9098dc01",
   "metadata": {},
   "outputs": [
    {
     "name": "stdout",
     "output_type": "stream",
     "text": [
      "Label:  3\n",
      "Prediction:  3\n"
     ]
    },
    {
     "data": {
      "image/png": "[encoded data removed]",
      "text/plain": [
       "<Figure size 432x288 with 1 Axes>"
      ]
     },
     "metadata": {
      "needs_background": "light"
     },
     "output_type": "display_data"
    }
   ],
   "source": [
    "plt.imshow(test_X[7407].reshape(28,28))\n",
    "label = np.argmax(test_y[7407])\n",
    "prediction = np.argmax(result_dict['Y_prediction_test'][7407])\n",
    "print(\"Label: \",label)\n",
    "print(\"Prediction: \",prediction)"
   ]
  },
  {
   "cell_type": "code",
   "execution_count": 14,
   "id": "036b8690",
   "metadata": {},
   "outputs": [
    {
     "name": "stdout",
     "output_type": "stream",
     "text": [
      "Label:  3\n",
      "Prediction:  3\n"
     ]
    },
    {
     "data": {
      "image/png": "[encoded data removed]",
      "text/plain": [
       "<Figure size 432x288 with 1 Axes>"
      ]
     },
     "metadata": {
      "needs_background": "light"
     },
     "output_type": "display_data"
    }
   ],
   "source": [
    "plt.imshow(test_X[8407].reshape(28,28))\n",
    "label = np.argmax(test_y[8407])\n",
    "prediction = np.argmax(result_dict['Y_prediction_test'][8407])\n",
    "print(\"Label: \",label)\n",
    "print(\"Prediction: \",prediction)"
   ]
  },
  {
   "cell_type": "code",
   "execution_count": 15,
   "id": "d5327026",
   "metadata": {},
   "outputs": [
    {
     "name": "stdout",
     "output_type": "stream",
     "text": [
      "Label:  1\n",
      "Prediction:  1\n"
     ]
    },
    {
     "data": {
      "image/png": "[encoded data removed]",
      "text/plain": [
       "<Figure size 432x288 with 1 Axes>"
      ]
     },
     "metadata": {
      "needs_background": "light"
     },
     "output_type": "display_data"
    }
   ],
   "source": [
    "plt.imshow(test_X[9407].reshape(28,28))\n",
    "label = np.argmax(test_y[9407])\n",
    "prediction = np.argmax(result_dict['Y_prediction_test'][9407])\n",
    "print(\"Label: \",label)\n",
    "print(\"Prediction: \",prediction)"
   ]
  }
 ],
 "metadata": {
  "kernelspec": {
   "display_name": "Python 3 (ipykernel)",
   "language": "python",
   "name": "python3"
  },
  "language_info": {
   "codemirror_mode": {
    "name": "ipython",
    "version": 3
   },
   "file_extension": ".py",
   "mimetype": "text/x-python",
   "name": "python",
   "nbconvert_exporter": "python",
   "pygments_lexer": "ipython3",
   "version": "3.9.0"
  }
 },
 "nbformat": 4,
 "nbformat_minor": 5
}
