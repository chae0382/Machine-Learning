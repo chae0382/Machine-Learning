{
 "cells": [
  {
   "cell_type": "code",
   "execution_count": 1,
   "id": "385a6e49",
   "metadata": {},
   "outputs": [],
   "source": [
    "import os\n",
    "import cv2\n",
    "import numpy as np\n",
    "import csv\n",
    "import math"
   ]
  },
  {
   "cell_type": "code",
   "execution_count": 2,
   "id": "00e6298f",
   "metadata": {},
   "outputs": [],
   "source": [
    "def data_loader(path, data_size):\n",
    "    \n",
    "    file_list = os.listdir(path)\n",
    "    feature_info = list()\n",
    "    label_info = list()\n",
    "    \n",
    "    for idx in range(data_size):\n",
    "        img_path = os.path.join(path, file_list[idx])\n",
    "        \n",
    "        feature = cv2.imread(img_path, cv2.IMREAD_GRAYSCALE)\n",
    "        feature = list(map(float,feature.flatten()))\n",
    "        label = int(file_list[idx][-5])\n",
    "        \n",
    "        feature_info.append(feature)\n",
    "        label_info.append(label)\n",
    "    \n",
    "    return feature_info, label_info"
   ]
  },
  {
   "cell_type": "code",
   "execution_count": 3,
   "id": "be8be7aa",
   "metadata": {},
   "outputs": [],
   "source": [
    "def get_GaussianNBC(train_samples, train_labels):\n",
    "    \n",
    "    fashion_class_0_samples = []\n",
    "    fashion_class_1_samples = []\n",
    "    fashion_class_2_samples = []\n",
    "    fashion_class_3_samples = []\n",
    "    fashion_class_4_samples = []\n",
    "    fashion_class_5_samples = []\n",
    "    fashion_class_6_samples = []\n",
    "    fashion_class_7_samples = []\n",
    "    fashion_class_8_samples = []\n",
    "    fashion_class_9_samples = []\n",
    "    \n",
    "    for k in range(len(train_samples)):\n",
    "        sample = train_samples[k]\n",
    "        label = train_labels[k]\n",
    "        \n",
    "        if label == 0:\n",
    "            fashion_class_0_samples.append(sample)\n",
    "        elif label == 1:\n",
    "            fashion_class_1_samples.append(sample)\n",
    "        elif label == 2:\n",
    "            fashion_class_2_samples.append(sample)\n",
    "        elif label == 3:\n",
    "            fashion_class_3_samples.append(sample)\n",
    "        elif label == 4:\n",
    "            fashion_class_4_samples.append(sample)\n",
    "        elif label == 5:\n",
    "            fashion_class_5_samples.append(sample)\n",
    "        elif label == 6:\n",
    "            fashion_class_6_samples.append(sample)\n",
    "        elif label == 7:\n",
    "            fashion_class_7_samples.append(sample)\n",
    "        elif label == 8:\n",
    "            fashion_class_8_samples.append(sample)\n",
    "        elif label == 9:\n",
    "            fashion_class_9_samples.append(sample)\n",
    "            \n",
    "    samples_by_classes = [\n",
    "        fashion_class_0_samples,\n",
    "        fashion_class_1_samples,\n",
    "        fashion_class_2_samples,\n",
    "        fashion_class_3_samples,\n",
    "        fashion_class_4_samples,\n",
    "        fashion_class_5_samples,\n",
    "        fashion_class_6_samples,\n",
    "        fashion_class_7_samples,\n",
    "        fashion_class_8_samples,\n",
    "        fashion_class_9_samples\n",
    "    ]\n",
    "    \n",
    "    numOf_classes = 10\n",
    "    means_by_classes = []\n",
    "    stdevs_by_classes = []\n",
    "    \n",
    "    for C in range(numOf_classes):\n",
    "        means = []\n",
    "        stdevs = []\n",
    "        for features in zip(*samples_by_classes[C]):\n",
    "            means.append(np.mean(features))\n",
    "            stdevs.append(np.std(features))\n",
    "        means_by_classes.append(means)\n",
    "        stdevs_by_classes.append(stdevs)\n",
    "    \n",
    "    return means_by_classes, stdevs_by_classes"
   ]
  },
  {
   "cell_type": "code",
   "execution_count": 4,
   "id": "85356e12",
   "metadata": {},
   "outputs": [],
   "source": [
    "def Gaussian_PDF(x, mean, stdev):\n",
    "    if stdev == 0.0:\n",
    "        if x == mean:\n",
    "            return 1.0\n",
    "        else:\n",
    "            return 0.0\n",
    "    return (1/(math.sqrt(2 * math.pi)*stdev)) *(math.exp(-(math.pow(x-mean,2)/(2*math.pow(stdev,2)))))"
   ]
  },
  {
   "cell_type": "code",
   "execution_count": 5,
   "id": "6d28c568",
   "metadata": {},
   "outputs": [],
   "source": [
    "def predict(means, stdevs, test_samples):\n",
    "    \n",
    "    pred_classes = []\n",
    "    numOf_classes = 10\n",
    "    numOf_features = 784\n",
    "    \n",
    "    for i in range(len(test_samples)):\n",
    "        prob_by_classes = []\n",
    "        for C in range(numOf_classes):\n",
    "            prob = 1\n",
    "            for j in range(numOf_features):\n",
    "                mean = means[C][j]\n",
    "                stdev = stdevs[C][j]\n",
    "                x = test_samples[i][j]\n",
    "                prob *= Gaussian_PDF(x, mean, stdev)\n",
    "            prob_by_classes.append(prob)\n",
    "        bestProb = -1\n",
    "        for C in range(numOf_classes):\n",
    "            if prob_by_classes[C] > bestProb:\n",
    "                bestProb = prob_by_classes[C]\n",
    "                pred_Label = C\n",
    "        pred_classes.append(pred_Label)\n",
    "        \n",
    "    return pred_classes"
   ]
  },
  {
   "cell_type": "code",
   "execution_count": 6,
   "id": "7dccb6eb",
   "metadata": {},
   "outputs": [],
   "source": [
    "def get_Acc(pred_classes_of_testset, gt_of_testset):\n",
    "    accuracy = np.equal(pred_classes_of_testset, gt_of_testset)\n",
    "    return list(accuracy).count(True)/len(accuracy)*100"
   ]
  },
  {
   "cell_type": "markdown",
   "id": "2dfd921b",
   "metadata": {},
   "source": [
    "### P1. 제공된 Fashion-MNIST 데이터 셋을 gaussian naive bayesian classifier를 통해 분류 수행"
   ]
  },
  {
   "cell_type": "code",
   "execution_count": 7,
   "id": "376c0a91",
   "metadata": {},
   "outputs": [
    {
     "name": "stdout",
     "output_type": "stream",
     "text": [
      "Acc: 10.0\n"
     ]
    }
   ],
   "source": [
    "train_set_path = 'Fashion-MNIST/train'\n",
    "test_set_path = 'Fashion-MNIST/test'\n",
    "\n",
    "train_samples, train_labels = data_loader(train_set_path, 60000)\n",
    "test_samples, test_labels = data_loader(test_set_path, 10000)\n",
    "\n",
    "means_by_classes, stdevs_by_classes = get_GaussianNBC(train_samples, train_labels)\n",
    "    \n",
    "pred_classes = predict(means_by_classes, stdevs_by_classes, test_samples)\n",
    "    \n",
    "acc = get_Acc(pred_classes, test_labels)\n",
    "\n",
    "print('Acc: %s' %acc)"
   ]
  },
  {
   "cell_type": "markdown",
   "id": "559acaec",
   "metadata": {},
   "source": [
    "### P2. P1에서 만든 모델에 min-max 정규화 방법을 적용해 적용 전후의 성능 비교 분석 수행"
   ]
  },
  {
   "cell_type": "code",
   "execution_count": 8,
   "id": "2c6afb89",
   "metadata": {},
   "outputs": [
    {
     "name": "stderr",
     "output_type": "stream",
     "text": [
      "/var/folders/9q/sg0csh752098vchj19dv46mw0000gn/T/ipykernel_5934/293091600.py:15: RuntimeWarning: overflow encountered in double_scalars\n",
      "  prob *= Gaussian_PDF(x, mean, stdev)\n",
      "/var/folders/9q/sg0csh752098vchj19dv46mw0000gn/T/ipykernel_5934/293091600.py:15: RuntimeWarning: invalid value encountered in double_scalars\n",
      "  prob *= Gaussian_PDF(x, mean, stdev)\n"
     ]
    },
    {
     "name": "stdout",
     "output_type": "stream",
     "text": [
      "Before min-max normalization) Acc: 10.0\n",
      "After min-max normalization) Acc: 54.87\n"
     ]
    }
   ],
   "source": [
    "train_samples_minmax = train_samples\n",
    "test_samples_minmax = test_samples\n",
    "    \n",
    "for i in range(len(train_samples)):\n",
    "    for j in range(784) :\n",
    "        train_samples_minmax[i][j] = train_samples_minmax[i][j]/255\n",
    "            \n",
    "for i in range(len(test_samples)):\n",
    "    for j in range(784) :\n",
    "        test_samples_minmax[i][j] = test_samples_minmax[i][j]/255\n",
    "    \n",
    "means_by_classes_minmax, stdevs_by_classes_minmax = get_GaussianNBC(train_samples_minmax, train_labels)\n",
    "    \n",
    "pred_classes_minmax = predict(means_by_classes_minmax, stdevs_by_classes_minmax, test_samples_minmax)\n",
    "    \n",
    "acc_minmax = get_Acc(pred_classes_minmax, test_labels)\n",
    "    \n",
    "print('Before min-max normalization) Acc: %s' %acc)\n",
    "print('After min-max normalization) Acc: %s' %acc_minmax)"
   ]
  },
  {
   "cell_type": "markdown",
   "id": "4b7f2139",
   "metadata": {},
   "source": [
    "### P3. P1에서 만든 모델을 변경하여 온라인 학습을 수행할 수 있도록 하고, 기존 배치 학습 방법과 비교"
   ]
  },
  {
   "cell_type": "code",
   "execution_count": 9,
   "id": "b6ad180c",
   "metadata": {},
   "outputs": [],
   "source": [
    "def get_GaussianNBC_online(train_samples, train_labels):\n",
    "    \n",
    "    fashion_class_0_samples = []\n",
    "    fashion_class_1_samples = []\n",
    "    fashion_class_2_samples = []\n",
    "    fashion_class_3_samples = []\n",
    "    fashion_class_4_samples = []\n",
    "    fashion_class_5_samples = []\n",
    "    fashion_class_6_samples = []\n",
    "    fashion_class_7_samples = []\n",
    "    fashion_class_8_samples = []\n",
    "    fashion_class_9_samples = []\n",
    "    \n",
    "    for k in range(len(train_samples)):\n",
    "        sample = train_samples[k]\n",
    "        label = train_labels[k]\n",
    "        \n",
    "        if label == 0:\n",
    "            fashion_class_0_samples.append(sample)\n",
    "        elif label == 1:\n",
    "            fashion_class_1_samples.append(sample)\n",
    "        elif label == 2:\n",
    "            fashion_class_2_samples.append(sample)\n",
    "        elif label == 3:\n",
    "            fashion_class_3_samples.append(sample)\n",
    "        elif label == 4:\n",
    "            fashion_class_4_samples.append(sample)\n",
    "        elif label == 5:\n",
    "            fashion_class_5_samples.append(sample)\n",
    "        elif label == 6:\n",
    "            fashion_class_6_samples.append(sample)\n",
    "        elif label == 7:\n",
    "            fashion_class_7_samples.append(sample)\n",
    "        elif label == 8:\n",
    "            fashion_class_8_samples.append(sample)\n",
    "        elif label == 9:\n",
    "            fashion_class_9_samples.append(sample)\n",
    "            \n",
    "    samples_by_classes = [\n",
    "        fashion_class_0_samples,\n",
    "        fashion_class_1_samples,\n",
    "        fashion_class_2_samples,\n",
    "        fashion_class_3_samples,\n",
    "        fashion_class_4_samples,\n",
    "        fashion_class_5_samples,\n",
    "        fashion_class_6_samples,\n",
    "        fashion_class_7_samples,\n",
    "        fashion_class_8_samples,\n",
    "        fashion_class_9_samples\n",
    "    ]\n",
    "    \n",
    "    numOf_classes = 10\n",
    "    means_by_classes = []\n",
    "    stdevs_by_classes = []\n",
    "    \n",
    "    for C in range(numOf_classes):\n",
    "        means = []\n",
    "        stdevs = []\n",
    "        for features in zip(*samples_by_classes[C]):\n",
    "            features = list(features)\n",
    "            mean = features[0]\n",
    "            var = 0\n",
    "            for i in range(1, len(features)) :\n",
    "                old_mean = mean;\n",
    "                old_var = var;\n",
    "                mean = old_mean + ((features[i]-old_mean)/(i+1))\n",
    "                var = old_var + ((((features[i]-old_mean)*(features[i]-mean))-old_var)/(i+1))\n",
    "                \n",
    "            means.append(mean)\n",
    "            stdevs.append(math.sqrt(var))\n",
    "            \n",
    "        means_by_classes.append(means)\n",
    "        stdevs_by_classes.append(stdevs)\n",
    "    \n",
    "    return means_by_classes, stdevs_by_classes"
   ]
  },
  {
   "cell_type": "code",
   "execution_count": 10,
   "id": "3d27703d",
   "metadata": {},
   "outputs": [
    {
     "name": "stdout",
     "output_type": "stream",
     "text": [
      "Online learning - before min-max normalization) Acc: 54.87\n",
      "Online learning - after min-max normalization) Acc: 54.87\n"
     ]
    }
   ],
   "source": [
    "means_by_classes_online, stdevs_by_classes_online = get_GaussianNBC_online(train_samples, train_labels)\n",
    "    \n",
    "pred_classes_online = predict(means_by_classes_online, stdevs_by_classes_online, test_samples)\n",
    "    \n",
    "acc_online = get_Acc(pred_classes_online, test_labels)\n",
    "    \n",
    "print('Online learning - before min-max normalization) Acc: %s' %acc_online)\n",
    "     \n",
    "means_by_classes_minmax_online, stdevs_by_classes_minmax_online = get_GaussianNBC_online(train_samples_minmax, train_labels)\n",
    "\n",
    "pred_classes_minmax_online = predict(means_by_classes_minmax_online, stdevs_by_classes_minmax_online, test_samples_minmax)\n",
    "    \n",
    "acc_minmax_online = get_Acc(pred_classes_minmax_online, test_labels)\n",
    "\n",
    "print('Online learning - after min-max normalization) Acc: %s' %acc_minmax_online)"
   ]
  }
 ],
 "metadata": {
  "kernelspec": {
   "display_name": "Python 3 (ipykernel)",
   "language": "python",
   "name": "python3"
  },
  "language_info": {
   "codemirror_mode": {
    "name": "ipython",
    "version": 3
   },
   "file_extension": ".py",
   "mimetype": "text/x-python",
   "name": "python",
   "nbconvert_exporter": "python",
   "pygments_lexer": "ipython3",
   "version": "3.9.0"
  }
 },
 "nbformat": 4,
 "nbformat_minor": 5
}
